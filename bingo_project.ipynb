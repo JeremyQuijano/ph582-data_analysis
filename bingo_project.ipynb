{
 "cells": [
  {
   "cell_type": "markdown",
   "id": "0c30b659",
   "metadata": {},
   "source": [
    "# Main Program"
   ]
  },
  {
   "cell_type": "code",
   "execution_count": null,
   "id": "f8d29d55",
   "metadata": {},
   "outputs": [],
   "source": [
    "# import packages\n",
    "import numpy as np"
   ]
  },
  {
   "cell_type": "code",
   "execution_count": null,
   "id": "8c94be9d",
   "metadata": {},
   "outputs": [],
   "source": [
    "# assign letter/number\n",
    "b = np.arange(1, 16)\n",
    "i = np.arange(16, 31)\n",
    "n = np.arange(31, 46)\n",
    "g = np.arange(46, 61)\n",
    "o = np.arange(61, 76)\n",
    "\n",
    "# check assignments\n",
    "print('B', b)\n",
    "print('I', i)\n",
    "print('N', n)\n",
    "print('G', g)\n",
    "print('O', o)"
   ]
  },
  {
   "cell_type": "code",
   "execution_count": null,
   "id": "2b960713",
   "metadata": {
    "scrolled": true
   },
   "outputs": [],
   "source": [
    "# create random bingo card\n",
    "bingo_card = []\n",
    "\n",
    "# bingo_card_no_free = [[0, 0, 0, 0, 0],\n",
    "#                       [0, 0, 0, 0, 0],\n",
    "#                       [0, 0, 0, 0, 0],\n",
    "#                       [0, 0, 0, 0, 0],\n",
    "#                       [0, 0, 0, 0, 0]]\n",
    "# bingo_card_with_free = [[0, 0, 0, 0, 0],\n",
    "#                         [0, 0, 0, 0, 0],\n",
    "#                         [0, 0, 1, 0, 0],\n",
    "#                         [0, 0, 0, 0, 0],\n",
    "#                         [0, 0, 0, 0, 0]]\n",
    "\n",
    "for x in range(1):\n",
    "    B = np.random.choice(b, size=5, replace=False)\n",
    "    I = np.random.choice(i, size=5, replace=False)\n",
    "    if bingo_card_with_free:\n",
    "        N = np.random.choice(n, size=4, replace=False)\n",
    "    elif bingo_card_no_free:\n",
    "        N = np.random.choice(n, size=5, replace=False)\n",
    "    G = np.random.choice(g, size=5, replace=False)\n",
    "    O = np.random.choice(o, size=5, replace=False)\n",
    "\n",
    "    bingo_card.append(np.stack([B, I, N, G, O], axis=1))\n",
    "\n",
    "# check bingo card\n",
    "for x in range(len(bingo_card)):\n",
    "    print(f'   B  I  N  G  O\\n{bingo_card[x]}')\n",
    "    \n",
    "# simulate random draws\n",
    "bingo_numbers = np.arange(1, 76)\n",
    "bingo_draw = np.random.choice(bingo_numbers, size=len(bingo_numbers), replace=False)\n",
    "print(f'B I N G O Draws\\n{bingo_draw}')\n",
    "\n",
    "# # check for bingo\n",
    "# bingo_check = np.full((1, 5, 5), False)\n",
    "# for y in range(len(bingo_draw)):\n",
    "# #     print(f'{bingo_draw[y]}\\n     B     I     N     G     O')\n",
    "#     bingo_check += bingo_card==bingo_draw[y]\n",
    "    \n",
    "# print(bingo_check[0][1]==True)"
   ]
  },
  {
   "cell_type": "code",
   "execution_count": null,
   "id": "599bfa98",
   "metadata": {},
   "outputs": [],
   "source": []
  },
  {
   "cell_type": "code",
   "execution_count": null,
   "id": "cff09242",
   "metadata": {},
   "outputs": [],
   "source": []
  },
  {
   "cell_type": "code",
   "execution_count": null,
   "id": "10e6a294",
   "metadata": {},
   "outputs": [],
   "source": []
  },
  {
   "cell_type": "markdown",
   "id": "25b86358",
   "metadata": {},
   "source": [
    "# Test Code"
   ]
  },
  {
   "cell_type": "code",
   "execution_count": null,
   "id": "007de775",
   "metadata": {},
   "outputs": [],
   "source": [
    "# check for bingo\n",
    "bingo_check = np.full((1, 5, 5), False)\n",
    "for x in range(len(bingo_draw)):\n",
    "    print(f'{bingo_draw[x]}\\n    B     I     N     G     O')\n",
    "    bingo_check += bingo_card==bingo_draw[x]\n",
    "    print(bingo_check[0])\n",
    "    \n",
    "print(bingo_check[0][1]==True)"
   ]
  },
  {
   "cell_type": "code",
   "execution_count": 1,
   "id": "320b5561",
   "metadata": {},
   "outputs": [
    {
     "data": {
      "application/vnd.jupyter.widget-view+json": {
       "model_id": "3b080185a30a4260b72088619d3ab260",
       "version_major": 2,
       "version_minor": 0
      },
      "text/plain": [
       "Button(description='My Button', style=ButtonStyle())"
      ]
     },
     "execution_count": 1,
     "metadata": {},
     "output_type": "execute_result"
    }
   ],
   "source": [
    "# import module\n",
    "import ipywidgets as widgets\n",
    "  \n",
    "# creating button\n",
    "widgets.Button(description = 'My Button')"
   ]
  },
  {
   "cell_type": "code",
   "execution_count": 2,
   "id": "ad5110af",
   "metadata": {},
   "outputs": [
    {
     "data": {
      "application/vnd.jupyter.widget-view+json": {
       "model_id": "a64ddc0d50014f7da293c103f0000ca6",
       "version_major": 2,
       "version_minor": 0
      },
      "text/plain": [
       "interactive(children=(Button(description='Run Interact', style=ButtonStyle()), Output()), _dom_classes=('widge…"
      ]
     },
     "metadata": {},
     "output_type": "display_data"
    },
    {
     "data": {
      "text/plain": [
       "<function __main__.lang()>"
      ]
     },
     "execution_count": 2,
     "metadata": {},
     "output_type": "execute_result"
    }
   ],
   "source": [
    "import ipywidgets as widgets\n",
    "from ipywidgets import interact, interact_manual, fixed\n",
    "  \n",
    "from random import choice\n",
    "  \n",
    "def lang():\n",
    "    langSelect = [\"English\",\"Deustche\",\"Espanol\",\"Italiano\",\"한국어\",\"日本人\"]\n",
    "    print(choice(langSelect))\n",
    "    \n",
    "interact_manual(lang)"
   ]
  },
  {
   "cell_type": "code",
   "execution_count": 8,
   "id": "e7606c17",
   "metadata": {},
   "outputs": [
    {
     "data": {
      "application/vnd.jupyter.widget-view+json": {
       "model_id": "3a658504de6a41b28cb35a19b417d7aa",
       "version_major": 2,
       "version_minor": 0
      },
      "text/plain": [
       "Button(description='Click me', icon='check', style=ButtonStyle(), tooltip='Click me')"
      ]
     },
     "execution_count": 8,
     "metadata": {},
     "output_type": "execute_result"
    }
   ],
   "source": [
    "button = widgets.Button(\n",
    "    description='Click me',\n",
    "    disabled=False,\n",
    "    button_style='', # 'success', 'info', 'warning', 'danger' or ''\n",
    "    tooltip='Click me',\n",
    "    icon='check' # (FontAwesome names without the `fa-` prefix)\n",
    ")\n",
    "button\n"
   ]
  },
  {
   "cell_type": "code",
   "execution_count": 24,
   "id": "e58a3f74",
   "metadata": {},
   "outputs": [
    {
     "data": {
      "application/vnd.jupyter.widget-view+json": {
       "model_id": "8afc49e84a21424e9e6a021d1c5e69a7",
       "version_major": 2,
       "version_minor": 0
      },
      "text/plain": [
       "Button(description='B1', style=ButtonStyle())"
      ]
     },
     "metadata": {},
     "output_type": "display_data"
    },
    {
     "data": {
      "application/vnd.jupyter.widget-view+json": {
       "model_id": "2d4a4575215a451fb75050c7d2e80942",
       "version_major": 2,
       "version_minor": 0
      },
      "text/plain": [
       "Output()"
      ]
     },
     "metadata": {},
     "output_type": "display_data"
    },
    {
     "data": {
      "application/vnd.jupyter.widget-view+json": {
       "model_id": "af4447f4c14e4532917116973983ef8d",
       "version_major": 2,
       "version_minor": 0
      },
      "text/plain": [
       "Button(description='B2', style=ButtonStyle())"
      ]
     },
     "metadata": {},
     "output_type": "display_data"
    },
    {
     "data": {
      "application/vnd.jupyter.widget-view+json": {
       "model_id": "19259830ed1f482096b2906341d615f5",
       "version_major": 2,
       "version_minor": 0
      },
      "text/plain": [
       "Output()"
      ]
     },
     "metadata": {},
     "output_type": "display_data"
    }
   ],
   "source": [
    "from IPython.display import display\n",
    "\n",
    "button1 = widgets.Button(description=\"B1\")\n",
    "button2 = widgets.Button(description=\"B2\")\n",
    "output1 = widgets.Output()\n",
    "output2 = widgets.Output()\n",
    "\n",
    "display(button1, output1)\n",
    "display(button2, output2)\n",
    "\n",
    "def on_button_clicked1(b):\n",
    "    with output1:\n",
    "        print(\"B1 clicked.\")\n",
    "\n",
    "def on_button_clicked2(b):\n",
    "    with output2:\n",
    "        print(\"B2 clicked.\")\n",
    "\n",
    "button1.on_click(on_button_clicked1)\n",
    "button2.on_click(on_button_clicked2)"
   ]
  },
  {
   "cell_type": "code",
   "execution_count": 42,
   "id": "242a50cd",
   "metadata": {},
   "outputs": [
    {
     "name": "stdout",
     "output_type": "stream",
     "text": [
      "{'B1': 1, 'B2': 2, 'B3': 3, 'B4': 4, 'B5': 5, 'B6': 6, 'B7': 7, 'B8': 8, 'B9': 9, 'B10': 10, 'B11': 11, 'B12': 12, 'B13': 13, 'B14': 14, 'B15': 15, 'I16': 16, 'I17': 17, 'I18': 18, 'I19': 19, 'I20': 20, 'I21': 21, 'I22': 22, 'I23': 23, 'I24': 24, 'I25': 25, 'I26': 26, 'I27': 27, 'I28': 28, 'I29': 29, 'I30': 30, 'N31': 31, 'N32': 32, 'N33': 33, 'N34': 34, 'N35': 35, 'N36': 36, 'N37': 37, 'N38': 38, 'N39': 39, 'N40': 40, 'N41': 41, 'N42': 42, 'N43': 43, 'N44': 44, 'N45': 45, 'G46': 46, 'G47': 47, 'G48': 48, 'G49': 49, 'G50': 50, 'G51': 51, 'G52': 52, 'G53': 53, 'G54': 54, 'G55': 55, 'G56': 56, 'G57': 57, 'G58': 58, 'G59': 59, 'G60': 60, 'O61': 61, 'O62': 62, 'O63': 63, 'O64': 64, 'O65': 65, 'O66': 66, 'O67': 67, 'O68': 68, 'O69': 69, 'O70': 70, 'O71': 71, 'O72': 72, 'O73': 73, 'O74': 74, 'O75': 75}\n"
     ]
    },
    {
     "data": {
      "application/vnd.jupyter.widget-view+json": {
       "model_id": "6f12fedf0e3643628ee54c5d1740b197",
       "version_major": 2,
       "version_minor": 0
      },
      "text/plain": [
       "Button(description='Click Me!', style=ButtonStyle())"
      ]
     },
     "metadata": {},
     "output_type": "display_data"
    },
    {
     "data": {
      "application/vnd.jupyter.widget-view+json": {
       "model_id": "bb811c15784a44d7961290e0f024a4dd",
       "version_major": 2,
       "version_minor": 0
      },
      "text/plain": [
       "Output()"
      ]
     },
     "metadata": {},
     "output_type": "display_data"
    }
   ],
   "source": [
    "d = {}\n",
    "\n",
    "for x in range(76):\n",
    "    if x in range(1, 16):\n",
    "        d[\"B\" + str(x)] = x\n",
    "    if x in range(16, 31):\n",
    "        d[\"I\" + str(x)] = x\n",
    "    if x in range(31, 46):\n",
    "        d[\"N\" + str(x)] = x\n",
    "    if x in range(46, 61):\n",
    "        d[\"G\" + str(x)] = x\n",
    "    if x in range(61, 76):\n",
    "        d[\"O\" + str(x)] = x\n",
    "\n",
    "print(d)\n",
    "\n",
    "# for x in range(76):\n",
    "#     asdf\n",
    "\n",
    "button = widgets.Button(description=\"Click Me!\")\n",
    "output = widgets.Output()\n",
    "\n",
    "display(button, output)\n",
    "\n",
    "def on_button_clicked(b):\n",
    "    with output:\n",
    "        print(\"Button clicked.\")\n",
    "\n",
    "button.on_click(on_button_clicked)\n",
    "\n"
   ]
  },
  {
   "cell_type": "code",
   "execution_count": null,
   "id": "6e0a5973",
   "metadata": {},
   "outputs": [],
   "source": []
  },
  {
   "cell_type": "code",
   "execution_count": null,
   "id": "538139c6",
   "metadata": {},
   "outputs": [],
   "source": []
  },
  {
   "cell_type": "code",
   "execution_count": null,
   "id": "d10b2e2e",
   "metadata": {},
   "outputs": [],
   "source": []
  },
  {
   "cell_type": "code",
   "execution_count": null,
   "id": "bd12b8ba",
   "metadata": {},
   "outputs": [],
   "source": []
  },
  {
   "cell_type": "code",
   "execution_count": null,
   "id": "bca408d8",
   "metadata": {},
   "outputs": [],
   "source": []
  }
 ],
 "metadata": {
  "kernelspec": {
   "display_name": "Python [conda env:ph582-data_analysis]",
   "language": "python",
   "name": "conda-env-ph582-data_analysis-py"
  },
  "language_info": {
   "codemirror_mode": {
    "name": "ipython",
    "version": 3
   },
   "file_extension": ".py",
   "mimetype": "text/x-python",
   "name": "python",
   "nbconvert_exporter": "python",
   "pygments_lexer": "ipython3",
   "version": "3.9.13"
  }
 },
 "nbformat": 4,
 "nbformat_minor": 5
}
